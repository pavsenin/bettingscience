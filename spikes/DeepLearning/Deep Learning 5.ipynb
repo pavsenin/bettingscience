{
 "cells": [
  {
   "cell_type": "code",
   "execution_count": 31,
   "metadata": {},
   "outputs": [],
   "source": [
    "import tensorflow as tf\n",
    "import numpy as np"
   ]
  },
  {
   "cell_type": "code",
   "execution_count": 32,
   "metadata": {},
   "outputs": [],
   "source": [
    "x_inp = tf.placeholder(tf.float32, [5, 5])\n",
    "w_inp = tf.placeholder(tf.float32, [3, 3])\n",
    "\n",
    "x = tf.reshape(x_inp, [1, 5, 5, 1])\n",
    "w = tf.reshape(w_inp, [3, 3, 1, 1])\n",
    "\n",
    "x_valid = tf.nn.conv2d(x, w, strides=[1, 1, 1, 1], padding=\"VALID\")\n",
    "x_same = tf.nn.conv2d(x, w, strides=[1, 1, 1, 1], padding=\"SAME\")\n",
    "x_valid_half = tf.nn.conv2d(x, w, strides=[1, 2, 2, 1], padding=\"VALID\")\n",
    "x_same_half = tf.nn.conv2d(x, w, strides=[1, 2, 2, 1], padding=\"SAME\")"
   ]
  },
  {
   "cell_type": "code",
   "execution_count": 33,
   "metadata": {},
   "outputs": [],
   "source": [
    "x = np.array([[0, 1, 2, 1, 0],\n",
    "             [4, 1, 0, 1, 0],\n",
    "             [2, 0, 1, 1, 1],\n",
    "             [1, 2, 3, 1, 0],\n",
    "             [0, 4, 3, 2, 0]])\n",
    "w = np.array([[0, 1, 0],\n",
    "             [1, 0, 1],\n",
    "             [2, 1, 0]])\n",
    "sess = tf.Session()\n",
    "y_valid, y_same, y_valid_half, y_same_half = sess.run(\n",
    "    [x_valid, x_same, x_valid_half, x_same_half],\n",
    "    feed_dict={x_inp: x, w_inp: w}\n",
    ")"
   ]
  },
  {
   "cell_type": "code",
   "execution_count": 34,
   "metadata": {},
   "outputs": [
    {
     "name": "stdout",
     "output_type": "stream",
     "text": [
      "VALID:\n",
      " [[ 9.  5.  4.]\n",
      " [ 8.  8. 10.]\n",
      " [ 8. 15. 12.]]\n",
      "SAME:\n",
      " [[ 5. 11.  4.  3.  3.]\n",
      " [ 3.  9.  5.  4.  4.]\n",
      " [ 5.  8.  8. 10.  3.]\n",
      " [ 4.  8. 15. 12.  6.]\n",
      " [ 5.  5.  9.  4.  2.]]\n",
      "VALID, stride2:\n",
      " [[ 9.  4.]\n",
      " [ 8. 12.]]\n",
      "SAME, stride2:\n",
      " [[5. 4. 3.]\n",
      " [5. 8. 3.]\n",
      " [5. 9. 2.]]\n"
     ]
    }
   ],
   "source": [
    "print(\"VALID:\\n\", y_valid[0, :, :, 0])\n",
    "print(\"SAME:\\n\", y_same[0, :, :, 0])\n",
    "print(\"VALID, stride2:\\n\", y_valid_half[0, :, :, 0])\n",
    "print(\"SAME, stride2:\\n\", y_same_half[0, :, :, 0])"
   ]
  },
  {
   "cell_type": "code",
   "execution_count": 35,
   "metadata": {},
   "outputs": [],
   "source": [
    "x_inp = tf.placeholder(tf.float32, [4, 4])\n",
    "x = tf.reshape(x_inp, [1, 4, 4, 1])\n",
    "x_valid = tf.nn.max_pool(x, ksize=[1, 2, 2, 1], strides=[1, 1, 1, 1], padding=\"VALID\")\n",
    "x_valid_half = tf.nn.max_pool(x, ksize=[1, 2, 2, 1], strides=[1, 2, 2, 1], padding=\"VALID\")"
   ]
  },
  {
   "cell_type": "code",
   "execution_count": 36,
   "metadata": {},
   "outputs": [
    {
     "name": "stdout",
     "output_type": "stream",
     "text": [
      "VALID:\n",
      " [[4. 2. 2.]\n",
      " [4. 1. 1.]\n",
      " [2. 3. 3.]]\n",
      "VALID, stride2:\n",
      " [[4. 2.]\n",
      " [2. 3.]]\n"
     ]
    }
   ],
   "source": [
    "x = np.array([[0, 1, 2, 1],\n",
    "            [4, 1, 0, 1],\n",
    "            [2, 0, 1, 1],\n",
    "            [1, 2, 3, 1]])\n",
    "y_valid, y_valid_half = sess.run(\n",
    "    [x_valid, x_valid_half],\n",
    "    feed_dict={x_inp: x}\n",
    ")\n",
    "print(\"VALID:\\n\", y_valid[0, :, :, 0])\n",
    "print(\"VALID, stride2:\\n\", y_valid_half[0, :, :, 0])"
   ]
  },
  {
   "cell_type": "code",
   "execution_count": 38,
   "metadata": {},
   "outputs": [
    {
     "name": "stdout",
     "output_type": "stream",
     "text": [
      "Extracting MNIST_data/train-images-idx3-ubyte.gz\n",
      "Extracting MNIST_data/train-labels-idx1-ubyte.gz\n",
      "Extracting MNIST_data/t10k-images-idx3-ubyte.gz\n",
      "Extracting MNIST_data/t10k-labels-idx1-ubyte.gz\n"
     ]
    }
   ],
   "source": [
    "from tensorflow.examples.tutorials.mnist import input_data\n",
    "mnist = input_data.read_data_sets(\"MNIST_data/\", one_hot=True)"
   ]
  },
  {
   "cell_type": "code",
   "execution_count": 39,
   "metadata": {},
   "outputs": [],
   "source": [
    "x = tf.placeholder(tf.float32, [None, 784])\n",
    "y = tf.placeholder(tf.float32, [None, 10])\n",
    "x_image = tf.reshape(x, [-1, 28, 28, 1])\n",
    "\n",
    "W_conv_1 = tf.Variable(tf.truncated_normal([5, 5, 1, 32], stddev=0.1))\n",
    "b_conv_1 = tf.Variable(tf.constant(0.1, shape=[32]))\n",
    "conv_1 = tf.nn.conv2d(x_image, W_conv_1, strides=[1, 1, 1, 1], padding=\"SAME\") + b_conv_1\n",
    "h_conv_1 = tf.nn.relu(conv_1)\n",
    "h_pool_1 = tf.nn.max_pool(h_conv_1, ksize=[1, 2, 2, 1], strides=[1, 2, 2, 1], padding=\"SAME\")\n",
    "\n",
    "W_conv_2 = tf.Variable(tf.truncated_normal([5, 5, 32, 64], stddev=0.1))\n",
    "b_conv_2 = tf.Variable(tf.constant(0.1, shape=[64]))\n",
    "conv_2 = tf.nn.conv2d(h_pool_1, W_conv_2, strides=[1, 1, 1, 1], padding=\"SAME\") + b_conv_2\n",
    "h_conv_2 = tf.nn.relu(conv_2)\n",
    "h_pool_2 = tf.nn.max_pool(h_conv_2, ksize=[1, 2, 2, 1], strides=[1, 2, 2, 1], padding=\"SAME\")\n",
    "\n",
    "h_pool_2_flat = tf.reshape(h_pool_2, [-1, 7*7*64])\n",
    "W_fc_1 = tf.Variable(tf.truncated_normal([7*7*64, 1024], stddev=0.1))\n",
    "b_fc_1 = tf.Variable(tf.constant(0.1, shape=[1024]))\n",
    "h_fc_1 = tf.nn.relu(tf.matmul(h_pool_2_flat, W_fc_1) + b_fc_1)\n",
    "keep_probability = tf.placeholder(tf.float32)\n",
    "h_fc_1_drop = tf.nn.dropout(h_fc_1, keep_probability)\n",
    "\n",
    "W_fc_2 = tf.Variable(tf.truncated_normal([1024, 10], stddev=0.1))\n",
    "b_fc_2 = tf.Variable(tf.constant(0.1, shape=[10]))\n",
    "logit_conv = tf.matmul(h_fc_1_drop, W_fc_2) + b_fc_2\n",
    "y_conv = tf.nn.softmax(logit_conv)\n",
    "\n",
    "cross_entropy = tf.reduce_mean(tf.nn.softmax_cross_entropy_with_logits(logits=logit_conv, labels=y))\n",
    "train_step = tf.train.AdamOptimizer(0.0001).minimize(cross_entropy)\n",
    "\n",
    "correct_prediction = tf.equal(tf.argmax(y_conv, 1), tf.argmax(y, 1))\n",
    "accuracy = tf.reduce_mean(tf.cast(correct_prediction, tf.float32))"
   ]
  },
  {
   "cell_type": "code",
   "execution_count": 40,
   "metadata": {},
   "outputs": [
    {
     "name": "stdout",
     "output_type": "stream",
     "text": [
      "0.9915\n"
     ]
    }
   ],
   "source": [
    "init = tf.global_variables_initializer()\n",
    "sess = tf.Session()\n",
    "sess.run(init)\n",
    "for i in range(10000):\n",
    "    batch_xs, batch_ys = mnist.train.next_batch(64)\n",
    "    sess.run(train_step, feed_dict={x: batch_xs, y: batch_ys, keep_probability: 0.5})\n",
    "\n",
    "print(sess.run(accuracy, feed_dict={x: mnist.test.images, y: mnist.test.labels, keep_probability: 1.}))"
   ]
  },
  {
   "cell_type": "code",
   "execution_count": 46,
   "metadata": {},
   "outputs": [],
   "source": [
    "# выведите изображения которые были распознаны неверно(и их метки), все ли из них вы смогли распознать?"
   ]
  },
  {
   "cell_type": "code",
   "execution_count": 22,
   "metadata": {},
   "outputs": [
    {
     "name": "stderr",
     "output_type": "stream",
     "text": [
      "Using TensorFlow backend.\n"
     ]
    }
   ],
   "source": [
    "from keras.datasets import mnist\n",
    "from keras.models import Sequential\n",
    "from keras.layers import Dense, Dropout, Activation, Flatten\n",
    "from keras.layers import Convolution2D, MaxPooling2D\n",
    "from keras.utils import np_utils\n",
    "(x_train, y_train), (x_test, y_test) = mnist.load_data()"
   ]
  },
  {
   "cell_type": "code",
   "execution_count": 23,
   "metadata": {},
   "outputs": [],
   "source": [
    "batch_size, img_rows, img_cols = 64, 28, 28\n",
    "x_train = x_train.reshape(x_train.shape[0], img_rows, img_cols, 1)\n",
    "x_test = x_test.reshape(x_test.shape[0], img_rows, img_cols, 1)\n",
    "input_shape = (img_rows, img_cols, 1)\n",
    "x_train = x_train.astype(\"float32\")\n",
    "x_test = x_test.astype(\"float32\")\n",
    "x_train /= 255\n",
    "x_test /= 255\n",
    "y_train = np_utils.to_categorical(y_train, 10)\n",
    "y_test = np_utils.to_categorical(y_test, 10)"
   ]
  },
  {
   "cell_type": "code",
   "execution_count": 26,
   "metadata": {},
   "outputs": [
    {
     "name": "stderr",
     "output_type": "stream",
     "text": [
      "C:\\Users\\Avsenin.Pavel\\AppData\\Local\\Continuum\\anaconda3\\lib\\site-packages\\ipykernel_launcher.py:2: UserWarning: Update your `Conv2D` call to the Keras 2 API: `Conv2D(32, (5, 5), input_shape=(28, 28, 1..., padding=\"same\")`\n",
      "  \n",
      "C:\\Users\\Avsenin.Pavel\\AppData\\Local\\Continuum\\anaconda3\\lib\\site-packages\\ipykernel_launcher.py:4: UserWarning: Update your `MaxPooling2D` call to the Keras 2 API: `MaxPooling2D(pool_size=(2, 2), strides=(2, 2), padding=\"same\")`\n",
      "  after removing the cwd from sys.path.\n",
      "C:\\Users\\Avsenin.Pavel\\AppData\\Local\\Continuum\\anaconda3\\lib\\site-packages\\ipykernel_launcher.py:5: UserWarning: Update your `Conv2D` call to the Keras 2 API: `Conv2D(64, (5, 5), input_shape=(28, 28, 1..., padding=\"same\")`\n",
      "  \"\"\"\n",
      "C:\\Users\\Avsenin.Pavel\\AppData\\Local\\Continuum\\anaconda3\\lib\\site-packages\\ipykernel_launcher.py:7: UserWarning: Update your `MaxPooling2D` call to the Keras 2 API: `MaxPooling2D(pool_size=(2, 2), strides=(2, 2), padding=\"same\")`\n",
      "  import sys\n"
     ]
    }
   ],
   "source": [
    "model = Sequential()\n",
    "model.add(Convolution2D(32, 5, 5, border_mode=\"same\", input_shape=input_shape))\n",
    "model.add(Activation(\"relu\"))\n",
    "model.add(MaxPooling2D(pool_size=(2, 2), strides=(2, 2), border_mode=\"same\"))\n",
    "model.add(Convolution2D(64, 5, 5, border_mode=\"same\", input_shape=input_shape))\n",
    "model.add(Activation(\"relu\"))\n",
    "model.add(MaxPooling2D(pool_size=(2, 2), strides=(2, 2), border_mode=\"same\"))\n",
    "model.add(Flatten())\n",
    "model.add(Dense(1024))\n",
    "model.add(Activation(\"relu\"))\n",
    "model.add(Dropout(0.5))\n",
    "model.add(Dense(10))\n",
    "model.add(Activation(\"softmax\"))"
   ]
  },
  {
   "cell_type": "code",
   "execution_count": 27,
   "metadata": {},
   "outputs": [
    {
     "name": "stdout",
     "output_type": "stream",
     "text": [
      "WARNING:tensorflow:From C:\\Users\\Avsenin.Pavel\\AppData\\Local\\Continuum\\anaconda3\\lib\\site-packages\\tensorflow\\python\\ops\\math_ops.py:3066: to_int32 (from tensorflow.python.ops.math_ops) is deprecated and will be removed in a future version.\n",
      "Instructions for updating:\n",
      "Use tf.cast instead.\n"
     ]
    },
    {
     "name": "stderr",
     "output_type": "stream",
     "text": [
      "C:\\Users\\Avsenin.Pavel\\AppData\\Local\\Continuum\\anaconda3\\lib\\site-packages\\ipykernel_launcher.py:2: UserWarning: The `nb_epoch` argument in `fit` has been renamed `epochs`.\n",
      "  \n"
     ]
    },
    {
     "name": "stdout",
     "output_type": "stream",
     "text": [
      "Train on 60000 samples, validate on 10000 samples\n",
      "Epoch 1/10\n",
      "60000/60000 [==============================] - 108s 2ms/step - loss: 0.1293 - acc: 0.9592 - val_loss: 0.0382 - val_acc: 0.9871\n",
      "Epoch 2/10\n",
      "60000/60000 [==============================] - 108s 2ms/step - loss: 0.0433 - acc: 0.9861 - val_loss: 0.0335 - val_acc: 0.9882\n",
      "Epoch 3/10\n",
      "60000/60000 [==============================] - 108s 2ms/step - loss: 0.0317 - acc: 0.9902 - val_loss: 0.0277 - val_acc: 0.9904\n",
      "Epoch 4/10\n",
      "60000/60000 [==============================] - 108s 2ms/step - loss: 0.0244 - acc: 0.9927 - val_loss: 0.0258 - val_acc: 0.9912\n",
      "Epoch 5/10\n",
      "60000/60000 [==============================] - 107s 2ms/step - loss: 0.0194 - acc: 0.9934 - val_loss: 0.0295 - val_acc: 0.9915\n",
      "Epoch 6/10\n",
      "60000/60000 [==============================] - 107s 2ms/step - loss: 0.0160 - acc: 0.9950 - val_loss: 0.0256 - val_acc: 0.9931\n",
      "Epoch 7/10\n",
      "60000/60000 [==============================] - 107s 2ms/step - loss: 0.0148 - acc: 0.9951 - val_loss: 0.0432 - val_acc: 0.9882\n",
      "Epoch 8/10\n",
      "60000/60000 [==============================] - 107s 2ms/step - loss: 0.0126 - acc: 0.9962 - val_loss: 0.0398 - val_acc: 0.9901\n",
      "Epoch 9/10\n",
      "60000/60000 [==============================] - 107s 2ms/step - loss: 0.0104 - acc: 0.9968 - val_loss: 0.0257 - val_acc: 0.9935\n",
      "Epoch 10/10\n",
      "60000/60000 [==============================] - 107s 2ms/step - loss: 0.0100 - acc: 0.9968 - val_loss: 0.0299 - val_acc: 0.9934\n",
      "Test score: 0.029931\n",
      "Test accuracy: 0.993400\n"
     ]
    }
   ],
   "source": [
    "model.compile(loss=\"categorical_crossentropy\", optimizer=\"adam\", metrics=[\"accuracy\"])\n",
    "model.fit(x_train, y_train, batch_size=batch_size, nb_epoch=10, verbose=1, validation_data=(x_test, y_test))\n",
    "score = model.evaluate(x_test, y_test, verbose=0)\n",
    "print(\"Test score: %f\" % score[0])\n",
    "print(\"Test accuracy: %f\" % score[1])"
   ]
  },
  {
   "cell_type": "code",
   "execution_count": 47,
   "metadata": {},
   "outputs": [],
   "source": [
    "batch_size = 64\n",
    "latent_space = 128\n",
    "learning_rate = 0.1\n",
    "ae_weights = {\"encoder_w\": tf.Variable(tf.truncated_normal([784, latent_space], stddev=0.1)),\n",
    "              \"encoder_b\": tf.Variable(tf.truncated_normal([latent_space], stddev=0.1)),\n",
    "              \"decoder_w\": tf.Variable(tf.truncated_normal([latent_space, 784], stddev=0.1)),\n",
    "              \"decoder_b\": tf.Variable(tf.truncated_normal([784], stddev=0.1))}\n",
    "ae_input = tf.placeholder(tf.float32, [batch_size, 784])\n",
    "hidden = tf.nn.sigmoid(tf.matmul(ae_input, ae_weights[\"encoder_w\"]) + ae_weights[\"encoder_b\"])\n",
    "visible_logits = tf.matmul(hidden, ae_weights[\"decoder_w\"]) + ae_weights[\"decoder_b\"]\n",
    "visible = tf.nn.sigmoid(visible_logits)\n",
    "ae_cost = tf.reduce_mean(tf.nn.sigmoid_cross_entropy_with_logits(logits=visible_logits, labels=ae_input))\n",
    "optimizer = tf.train.AdagradOptimizer(learning_rate)\n",
    "ae_op = optimizer.minimize(ae_cost)"
   ]
  },
  {
   "cell_type": "code",
   "execution_count": 84,
   "metadata": {},
   "outputs": [],
   "source": [
    "sess = tf.Session()\n",
    "sess.run(tf.global_variables_initializer())\n",
    "\n",
    "for i in range(10000):\n",
    "    x_batch, _ = mnist.train.next_batch(batch_size)\n",
    "    sess.run(ae_op, feed_dict={ae_input: x_batch})"
   ]
  },
  {
   "cell_type": "code",
   "execution_count": 92,
   "metadata": {},
   "outputs": [],
   "source": [
    "# выведите изображение 10 первых фильтров заданного автокодировщика"
   ]
  },
  {
   "cell_type": "code",
   "execution_count": 91,
   "metadata": {},
   "outputs": [],
   "source": [
    "# выведите изображение первого фильтра в процессе обучения:\n",
    "# обучайте модель на 2000 батчах, выводите изображение первого фильтра после каждого 100-го батча"
   ]
  },
  {
   "cell_type": "code",
   "execution_count": 50,
   "metadata": {},
   "outputs": [],
   "source": [
    "# используя примеры из книги постройте разреженный, шумоподавляющий и сверточный автокодировщики\n",
    "# выведите изображения фильтров этих автокодировщиков"
   ]
  },
  {
   "cell_type": "code",
   "execution_count": null,
   "metadata": {},
   "outputs": [],
   "source": [
    "# !!! При выполнении заданий выше сюда не подсматривать !!!\n",
    "import matplotlib.pyplot as plt\n",
    "\n",
    "def showImage(images, index):\n",
    "    first_image = images[index]\n",
    "    first_image = np.array(first_image, dtype='float')\n",
    "    pixels = first_image.reshape((28, 28))\n",
    "    plt.imshow(pixels, cmap='gray')\n",
    "    plt.show()\n",
    "\n",
    "x_auto = sess.run(visible_logits, feed_dict={ae_input: mnist.test.images[0:batch_size]})\n",
    "for i in range(10):\n",
    "    showImage(x_auto, i)\n",
    "\n",
    "\n",
    "import matplotlib.pyplot as plt\n",
    "\n",
    "def showImage(images, index):\n",
    "    first_image = images[index]\n",
    "    first_image = np.array(first_image, dtype='float')\n",
    "    pixels = first_image.reshape((28, 28))\n",
    "    plt.imshow(pixels, cmap='gray')\n",
    "    plt.show()\n",
    "\n",
    "sess = tf.Session()\n",
    "sess.run(tf.global_variables_initializer())\n",
    "\n",
    "for i in range(1000):\n",
    "    x_batch, _ = mnist.train.next_batch(batch_size)\n",
    "    sess.run(ae_op, feed_dict={ae_input: x_batch})\n",
    "    x_auto = sess.run(visible_logits, feed_dict={ae_input: x_batch})\n",
    "    if i % 100 == 0:\n",
    "        showImage(x_auto, 0)"
   ]
  }
 ],
 "metadata": {
  "kernelspec": {
   "display_name": "Python 3",
   "language": "python",
   "name": "python3"
  },
  "language_info": {
   "codemirror_mode": {
    "name": "ipython",
    "version": 3
   },
   "file_extension": ".py",
   "mimetype": "text/x-python",
   "name": "python",
   "nbconvert_exporter": "python",
   "pygments_lexer": "ipython3",
   "version": "3.7.3"
  }
 },
 "nbformat": 4,
 "nbformat_minor": 2
}
