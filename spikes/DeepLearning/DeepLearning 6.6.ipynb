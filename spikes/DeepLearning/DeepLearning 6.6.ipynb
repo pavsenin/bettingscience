{
 "cells": [
  {
   "cell_type": "code",
   "execution_count": null,
   "metadata": {},
   "outputs": [],
   "source": [
    "START_CHAR = '\\b'\n",
    "END_CHAR = '\\t'\n",
    "PADDING_CHAR = '\\a'\n",
    "chars = set([START_CHAR, '\\n', END_CHAR])\n",
    "with open(input_fname) as f:\n",
    "    for line in f:\n",
    "        chars.update(list(line.strip().lower()))\n",
    "char_indices = { c : i for i,c in enumerate(sorted(list(chars)))}\n",
    "char_indices[PADDING_CHAR] = 0\n",
    "indices_to_chars = { i : c for c,i in char_indices.items()}\n",
    "num_chars = len(chars)"
   ]
  }
 ],
 "metadata": {
  "kernelspec": {
   "display_name": "Python 3",
   "language": "python",
   "name": "python3"
  },
  "language_info": {
   "codemirror_mode": {
    "name": "ipython",
    "version": 3
   },
   "file_extension": ".py",
   "mimetype": "text/x-python",
   "name": "python",
   "nbconvert_exporter": "python",
   "pygments_lexer": "ipython3",
   "version": "3.7.3"
  }
 },
 "nbformat": 4,
 "nbformat_minor": 2
}
